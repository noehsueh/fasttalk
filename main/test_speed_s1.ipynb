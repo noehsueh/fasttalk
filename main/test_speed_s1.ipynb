{
 "cells": [
  {
   "cell_type": "code",
   "execution_count": null,
   "id": "98032345",
   "metadata": {},
   "outputs": [],
   "source": [
    "import torch\n",
    "import os\n",
    "from pathlib import Path\n",
    "# change base folder\n",
    "os.chdir('../')\n",
    "# Load your model definition and dataset\n",
    "from models import get_model\n",
    "from types import SimpleNamespace\n",
    "import yaml\n",
    "import matplotlib.pyplot as plt\n",
    "from flame_model.FLAME import FLAMEModel\n",
    "from renderer.renderer import Renderer\n",
    "from pytorch3d.transforms import matrix_to_euler_angles\n",
    "import matplotlib.animation as animation\n",
    "import numpy as np\n",
    "from dataset.data_loader_joint_data_batched import get_dataloaders\n",
    "from scipy.signal import savgol_filter\n",
    "\n",
    "device   = torch.device(\"cuda\" if torch.cuda.is_available() else \"cpu\")\n",
    "flame    = FLAMEModel(n_shape=300,n_exp=50).to(device)\n",
    "renderer = Renderer(render_full_head=True).to(device)"
   ]
  },
  {
   "cell_type": "code",
   "execution_count": null,
   "id": "fe21e3e9",
   "metadata": {},
   "outputs": [],
   "source": [
    "def load_and_flatten_yaml(config_path):\n",
    "    \"\"\"\n",
    "    Loads the YAML file and flattens the structure so that\n",
    "    all sub-keys under top-level sections (e.g., DATA, NETWORK, etc.)\n",
    "    appear in a single dictionary without the top-level keys.\n",
    "    \"\"\"\n",
    "    with open(config_path, 'r') as f:\n",
    "        full_config = yaml.safe_load(f)\n",
    "\n",
    "    # Flatten the dict by merging all sub-dicts\n",
    "    flattened_config = {}\n",
    "    for top_level_key, sub_dict in full_config.items():\n",
    "        # sub_dict should itself be a dict of key-value pairs\n",
    "        if isinstance(sub_dict, dict):\n",
    "            # Merge each sub-key into flattened_config\n",
    "            for k, v in sub_dict.items():\n",
    "                flattened_config[k] = v\n",
    "        else:\n",
    "            # In case there's a non-dict top-level key (unlikely but possible)\n",
    "            flattened_config[top_level_key] = sub_dict\n",
    "\n",
    "    return SimpleNamespace(**flattened_config)"
   ]
  },
  {
   "cell_type": "code",
   "execution_count": null,
   "id": "ee2ba61a",
   "metadata": {},
   "outputs": [],
   "source": [
    "device   = torch.device(\"cuda\" if torch.cuda.is_available() else \"cpu\")\n",
    "\n",
    "global cfg\n",
    "\n",
    "cfg = load_and_flatten_yaml(\"config/joint_data/stage1.yaml\")\n",
    "\n",
    "cfg.batch_size = 1"
   ]
  },
  {
   "cell_type": "code",
   "execution_count": null,
   "id": "4adad988",
   "metadata": {},
   "outputs": [],
   "source": [
    "model = get_model(cfg)\n",
    "model = model.to(device)\n",
    "model = model.eval()"
   ]
  },
  {
   "cell_type": "code",
   "execution_count": null,
   "id": "48f220ad",
   "metadata": {},
   "outputs": [],
   "source": [
    "dataset = get_dataloaders(cfg,False)\n",
    "\n",
    "train_loader = dataset['train']"
   ]
  },
  {
   "cell_type": "code",
   "execution_count": null,
   "id": "42a8b2bc",
   "metadata": {},
   "outputs": [],
   "source": [
    "num_samples = 1\n",
    "for i, (blendshapes, mask) in enumerate(train_loader):\n",
    "    if i >= num_samples:\n",
    "        break\n",
    "    blendshapes = blendshapes.to(device)\n",
    "    mask = mask.to(device)\n",
    "\n",
    "    with torch.no_grad():\n",
    "        blendshapes_out, quant_loss = model.forward_time(blendshapes, mask)"
   ]
  },
  {
   "cell_type": "code",
   "execution_count": null,
   "id": "9a928389",
   "metadata": {},
   "outputs": [],
   "source": [
    "num_samples = 1\n",
    "for i, (blendshapes, mask) in enumerate(train_loader):\n",
    "    if i >= num_samples:\n",
    "        break\n",
    "    blendshapes = blendshapes.to(device)\n",
    "    mask = mask.to(device)\n",
    "\n",
    "    with torch.no_grad():\n",
    "        blendshapes_out, quant_loss = model(blendshapes, mask)"
   ]
  },
  {
   "cell_type": "code",
   "execution_count": null,
   "id": "0734fedb",
   "metadata": {},
   "outputs": [],
   "source": []
  }
 ],
 "metadata": {
  "kernelspec": {
   "display_name": "fasttalk",
   "language": "python",
   "name": "python3"
  },
  "language_info": {
   "codemirror_mode": {
    "name": "ipython",
    "version": 3
   },
   "file_extension": ".py",
   "mimetype": "text/x-python",
   "name": "python",
   "nbconvert_exporter": "python",
   "pygments_lexer": "ipython3",
   "version": "3.11.13"
  }
 },
 "nbformat": 4,
 "nbformat_minor": 5
}
