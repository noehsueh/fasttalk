{
 "cells": [
  {
   "cell_type": "code",
   "execution_count": 1,
   "id": "993a7437",
   "metadata": {},
   "outputs": [
    {
     "name": "stderr",
     "output_type": "stream",
     "text": [
      "/root/miniconda3/envs/fasttalk/lib/python3.11/site-packages/tqdm/auto.py:21: TqdmWarning: IProgress not found. Please update jupyter and ipywidgets. See https://ipywidgets.readthedocs.io/en/stable/user_install.html\n",
      "  from .autonotebook import tqdm as notebook_tqdm\n",
      "/root/miniconda3/envs/fasttalk/lib/python3.11/site-packages/pytorch3d/io/obj_io.py:547: UserWarning: No mtl file provided\n",
      "  warnings.warn(\"No mtl file provided\")\n"
     ]
    }
   ],
   "source": [
    "import torch\n",
    "import os\n",
    "from pathlib import Path\n",
    "# change base folder\n",
    "os.chdir('../')\n",
    "# Load your model definition and dataset\n",
    "from models import get_model\n",
    "from types import SimpleNamespace\n",
    "import yaml\n",
    "import matplotlib.pyplot as plt\n",
    "from flame_model.FLAME import FLAMEModel\n",
    "from renderer.renderer import Renderer\n",
    "from pytorch3d.transforms import matrix_to_euler_angles\n",
    "import matplotlib.animation as animation\n",
    "import numpy as np\n",
    "from dataset.data_loader_joint_data_batched import get_dataloaders\n",
    "from scipy.signal import savgol_filter\n",
    "from base.baseTrainer import load_state_dict\n",
    "import torch.nn as nn\n",
    "import librosa\n",
    "from transformers import Wav2Vec2Processor, Wav2Vec2FeatureExtractor\n",
    "import soundfile as sf\n",
    "import glob\n",
    "import subprocess\n",
    "import torch.nn.functional as F\n",
    "\n",
    "\n",
    "device   = torch.device(\"cuda\" if torch.cuda.is_available() else \"cpu\")\n",
    "flame    = FLAMEModel(n_shape=300,n_exp=50).to(device)\n",
    "renderer = Renderer(render_full_head=True).to(device)"
   ]
  },
  {
   "cell_type": "code",
   "execution_count": 2,
   "id": "96fb6dc6",
   "metadata": {},
   "outputs": [
    {
     "data": {
      "text/plain": [
       "[None, None, None, None, None, None, None, None, None, None, None, None]"
      ]
     },
     "execution_count": 2,
     "metadata": {},
     "output_type": "execute_result"
    }
   ],
   "source": [
    "target_dir = \"/mnt/fasttalk/demo/video\"\n",
    "import shutil, os; [shutil.rmtree(os.path.join(target_dir, f)) if os.path.isdir(os.path.join(target_dir, f)) else os.remove(os.path.join(target_dir, f)) for f in os.listdir(target_dir)]\n"
   ]
  },
  {
   "cell_type": "code",
   "execution_count": 3,
   "id": "67474fde",
   "metadata": {},
   "outputs": [],
   "source": [
    "def load_and_flatten_yaml(config_path):\n",
    "    \"\"\"\n",
    "    Loads the YAML file and flattens the structure so that\n",
    "    all sub-keys under top-level sections (e.g., DATA, NETWORK, etc.)\n",
    "    appear in a single dictionary without the top-level keys.\n",
    "    \"\"\"\n",
    "    with open(config_path, 'r') as f:\n",
    "        full_config = yaml.safe_load(f)\n",
    "\n",
    "    # Flatten the dict by merging all sub-dicts\n",
    "    flattened_config = {}\n",
    "    for top_level_key, sub_dict in full_config.items():\n",
    "        # sub_dict should itself be a dict of key-value pairs\n",
    "        if isinstance(sub_dict, dict):\n",
    "            # Merge each sub-key into flattened_config\n",
    "            for k, v in sub_dict.items():\n",
    "                flattened_config[k] = v\n",
    "        else:\n",
    "            # In case there's a non-dict top-level key (unlikely but possible)\n",
    "            flattened_config[top_level_key] = sub_dict\n",
    "\n",
    "    return SimpleNamespace(**flattened_config)"
   ]
  },
  {
   "cell_type": "code",
   "execution_count": 4,
   "id": "4b822974",
   "metadata": {},
   "outputs": [],
   "source": [
    "# ---- Load model (without DDP for eval) ----\n",
    "def load_model_for_eval(checkpoint_path,cfg):\n",
    "    model = get_model(cfg)\n",
    "    model = model.cuda()\n",
    "   \n",
    "    checkpoint = torch.load(checkpoint_path, map_location=lambda storage, loc: storage.cpu())\n",
    "    load_state_dict(model, checkpoint['state_dict'], strict=False)\n",
    "    print(\"=> Loaded checkpoint '{}'\".format(checkpoint_path))\n",
    "    \n",
    "    model.eval()\n",
    "    return model\n",
    "\n",
    "# ---- Load dataset ----\n",
    "def load_dataset(cfg,test_config):\n",
    "\n",
    "    dataset = get_dataloaders(cfg,test_config)\n",
    "\n",
    "    if not test_config:\n",
    "        train_loader = dataset['train']\n",
    "        val_loader = dataset['valid']\n",
    "        return train_loader, val_loader\n",
    "    else:\n",
    "        test_loader = dataset['test']\n",
    "        return test_loader\n",
    "\n",
    "\n",
    "# ---- Evaluate some samples ----\n",
    "def evaluate_samples(model, data_loader, num_samples=10):\n",
    "    for i, (padded_blendshapes, blendshape_mask, padded_audios, audio_mask) in enumerate(data_loader):\n",
    "        if i >= num_samples:\n",
    "            break\n",
    "       \n",
    "        padded_blendshapes  = padded_blendshapes.cuda(device, non_blocking=True)\n",
    "        blendshape_mask     = blendshape_mask.cuda(device, non_blocking=True)\n",
    "        padded_audios       = padded_audios.cuda(device, non_blocking=True)\n",
    "        audio_mask          = audio_mask.cuda(device, non_blocking=True)\n",
    "\n",
    "        with torch.no_grad():\n",
    "            loss, loss_detail, blendshapes_out  = model(padded_blendshapes,blendshape_mask,padded_audios,audio_mask,criterion=nn.MSELoss())\n",
    "        \n",
    "        print(\"loss_blendshapes: \", loss_detail[0].item(), \"- loss_reg:\", loss_detail[1].item())\n",
    "\n",
    "        render_comparison(padded_blendshapes.squeeze(), blendshapes_out.squeeze(), i)\n",
    "\n",
    "\n",
    "def get_vertices_from_blendshapes(expr, gpose, jaw, eyelids):\n",
    "\n",
    "    # Load the encoded file\n",
    "    expr_tensor    = expr.to(device)\n",
    "    gpose_tensor   = gpose.to(device)\n",
    "    jaw_tensor     = jaw.to(device)\n",
    "    eyelids_tensor = eyelids.to(device)\n",
    "\n",
    "    target_shape_tensor = torch.zeros(expr_tensor.shape[0], 300).expand(expr_tensor.shape[0], -1).to(device)\n",
    "\n",
    "    I = matrix_to_euler_angles(torch.cat([torch.eye(3)[None]], dim=0),\"XYZ\").to(device)\n",
    "\n",
    "    eye_r    = I.clone().to(device).squeeze()\n",
    "    eye_l    = I.clone().to(device).squeeze()\n",
    "    eyes     = torch.cat([eye_r,eye_l],dim=0).expand(expr_tensor.shape[0], -1).to(device)\n",
    "\n",
    "    pose = torch.cat([gpose_tensor, jaw_tensor], dim=-1).to(device)\n",
    "\n",
    "    flame_output_only_shape,_ = flame.forward(shape_params=target_shape_tensor, \n",
    "                                              expression_params=expr_tensor, \n",
    "                                              pose_params=pose, \n",
    "                                              eye_pose_params=eyes)\n",
    "    return flame_output_only_shape.detach()\n",
    "\n",
    "# Assumes flame and renderer are already defined and on correct device\n",
    "\n",
    "def render_comparison(blendshapes_gt, blendshapes_pred, index=None, name=None):\n",
    "    # ==== Align lengths ====\n",
    "    min_len = min(blendshapes_gt.shape[0], blendshapes_pred.shape[0])\n",
    "    blendshapes_gt = blendshapes_gt[:min_len]\n",
    "    blendshapes_pred = blendshapes_pred[:min_len]\n",
    "    \n",
    "    # ==== Split GT and predicted blendshapes ====\n",
    "    expr_gt     = blendshapes_gt[:, :50]\n",
    "    gpose_gt    = blendshapes_gt[:, 50:53]\n",
    "    jaw_gt      = blendshapes_gt[:, 53:56]\n",
    "    eyelids_gt  = blendshapes_gt[:, 56:]\n",
    "\n",
    "    expr_pr     = blendshapes_pred[:, :50]\n",
    "    gpose_pr    = blendshapes_pred[:, 50:53]\n",
    "    jaw_pr      = blendshapes_pred[:, 53:56]\n",
    "    eyelids_pr = blendshapes_pred[:, 56:]\n",
    "\n",
    "    # Apply Savitzky-Golay filter along the time axis (axis=0)\n",
    "    #gpose_pr_smooth_np = savgol_filter(gpose_pr.detach().cpu().numpy(), window_length=7, polyorder=2, axis=0)\n",
    "    gpose_pr_smoothed = gpose_pr #torch.from_numpy(gpose_pr_smooth_np).to(gpose_pr.device)\n",
    "\n",
    "    # ==== Generate vertices ====\n",
    "    verts_gt = get_vertices_from_blendshapes(expr_gt, gpose_gt, jaw_gt, eyelids_gt) # vertice_gt.reshape(-1,5023,3)\n",
    "    verts_pr = get_vertices_from_blendshapes(expr_pr, gpose_pr_smoothed, jaw_pr, eyelids_pr) # vertice_pred.reshape(-1,5023,3) \n",
    "\n",
    "    # ==== Camera ====\n",
    "    cam = torch.tensor([5, 0, 0], dtype=torch.float32).unsqueeze(0).to(verts_gt.device)\n",
    "    cam = cam.expand(verts_gt.shape[0], -1)\n",
    "\n",
    "    # ==== Render both sequences ====\n",
    "    frames_gt = renderer.forward(verts_gt, cam)['rendered_img']         # [T, 3, H, W]\n",
    "    frames_pr = renderer.forward(verts_pr, cam)['rendered_img']         # [T, 3, H, W]\n",
    "\n",
    "    # ==== Prepare output folder ====\n",
    "    os.makedirs(\"demo/video\", exist_ok=True)\n",
    "    if index is not None:\n",
    "        video_file = f\"demo/video/sample_{index:03d}.mp4\"\n",
    "    else:\n",
    "        video_file = f\"demo/video/{name}.mp4\"\n",
    "\n",
    "    # ==== Create animation ====\n",
    "    def update(frame_idx, gt_seq, pr_seq, axes):\n",
    "        gt = gt_seq[frame_idx].detach().cpu().numpy().transpose(1, 2, 0)\n",
    "        pr = pr_seq[frame_idx].detach().cpu().numpy().transpose(1, 2, 0)\n",
    "        combined = np.concatenate([(gt * 255).astype(np.uint8), (pr * 255).astype(np.uint8)], axis=1)\n",
    "        axes.clear()\n",
    "        axes.imshow(combined)\n",
    "        axes.axis(\"off\")\n",
    "\n",
    "    fig, ax = plt.subplots(figsize=(10, 5))\n",
    "    ani = animation.FuncAnimation(\n",
    "        fig,\n",
    "        update,\n",
    "        frames=frames_gt.shape[0],\n",
    "        fargs=(frames_gt, frames_pr, ax),\n",
    "        interval=100\n",
    "    )\n",
    "    ani.save(video_file, writer='ffmpeg', fps=25)\n",
    "    plt.close(fig)\n",
    "\n",
    "def render(blendshapes_pred, index=None, name=None, audio_dir=None):\n",
    "    # ==== Split GT and predicted blendshapes ====\n",
    "    expr_pr     = blendshapes_pred[:, :50]\n",
    "    gpose_pr    = blendshapes_pred[:, 50:53] \n",
    "    jaw_pr      = blendshapes_pred[:, 53:56]\n",
    "    eyelids_pr  = blendshapes_pred[:, 56:]\n",
    "\n",
    "    # Apply Savitzky-Golay filter along the time axis (axis=0)\n",
    "    #gpose_pr_smooth_np = savgol_filter(gpose_pr.detach().cpu().numpy(), window_length=7, polyorder=2, axis=0)\n",
    "    gpose_pr_smoothed = gpose_pr #torch.from_numpy(gpose_pr_smooth_np).to(gpose_pr.device)\n",
    "\n",
    "    # ==== Generate vertices ====\n",
    "    verts_pr = get_vertices_from_blendshapes(expr_pr, gpose_pr_smoothed, jaw_pr, eyelids_pr) # vertice_pred.reshape(-1,5023,3) \n",
    "\n",
    "    # ==== Camera ====\n",
    "    cam = torch.tensor([5, 0, 0], dtype=torch.float32).unsqueeze(0).to(verts_pr.device)\n",
    "    cam = cam.expand(verts_pr.shape[0], -1)\n",
    "\n",
    "    # ==== Render both sequences ====\n",
    "    frames_pr = renderer.forward(verts_pr, cam)['rendered_img']         # [T, 3, H, W]\n",
    "\n",
    "    # ==== Prepare output folder ====\n",
    "    os.makedirs(\"demo/video\", exist_ok=True)\n",
    "    if index is not None:\n",
    "        video_file = f\"demo/video/sample_{index:03d}.mp4\"\n",
    "    else:\n",
    "        video_file = f\"demo/video/{name}.mp4\"\n",
    "\n",
    "    # ==== Create animation ====\n",
    "    def update(frame_idx, pr_seq, axes):\n",
    "        pr = pr_seq[frame_idx].detach().cpu().numpy().transpose(1, 2, 0)\n",
    "        scaled = (pr * 255).astype(np.uint8)\n",
    "        axes.clear()\n",
    "        axes.imshow(scaled)\n",
    "        axes.axis(\"off\")\n",
    "\n",
    "    fig, ax = plt.subplots(figsize=(5, 5))\n",
    "    ani = animation.FuncAnimation(\n",
    "        fig,\n",
    "        update,\n",
    "        frames=frames_pr.shape[0],\n",
    "        fargs=(frames_pr, ax),\n",
    "        interval=100\n",
    "    )\n",
    "    ani.save(video_file, writer='ffmpeg', fps=25)\n",
    "    plt.close(fig)\n",
    "\n",
    "    # =============== Add audio to the video ===============\n",
    "    \n",
    "    # Add audio to the video\n",
    "    audio_file = f'{audio_dir}/{name}.wav'\n",
    "    output_with_audio = f'demo/video/{name}_with_audio.mp4'\n",
    "    if os.path.exists(audio_file):\n",
    "        cmd = f'ffmpeg -y -i {video_file} -i {audio_file} -c:v copy -c:a aac -strict experimental {output_with_audio}'\n",
    "        subprocess.run(cmd, shell=True)\n",
    "        print(f\"Video with audio saved as {output_with_audio}\")\n",
    "    else:\n",
    "        print(f\"Audio file {audio_file} not found\")"
   ]
  },
  {
   "cell_type": "code",
   "execution_count": null,
   "id": "1922c8ad",
   "metadata": {},
   "outputs": [
    {
     "name": "stderr",
     "output_type": "stream",
     "text": [
      "You are using a model of type hubert to instantiate a model of type wav2vec2. This is not supported for all configurations of models and can yield errors.\n"
     ]
    },
    {
     "name": "stdout",
     "output_type": "stream",
     "text": [
      "Loading pretrained: utter-project/mHuBERT-147\n"
     ]
    }
   ],
   "source": [
    "device   = torch.device(\"cuda\" if torch.cuda.is_available() else \"cpu\")\n",
    "\n",
    "global cfg\n",
    "\n",
    "#cfg = load_and_flatten_yaml(\"config/joint_data/stage2interactive.yaml\")\n",
    "cfg = load_and_flatten_yaml(\"config/joint_data/stage2.yaml\")\n",
    "\n",
    "cfg.batch_size = 1\n",
    "\n",
    "checkpoint_path = \"/mnt/fasttalk/logs/joint_data/joint_data_s2_moods/model_300/model.pth.tar\" #\"/mnt/fasttalk/logs/joint_data/joint_data_finetune_s2/model_50/model.pth.tar\" #\"/root/Projects/fasttalk/logs/joint_data/joint_data_custom_s2/model_95/model.pth.tar\"\n",
    "model = load_model_for_eval(checkpoint_path,cfg)\n",
    "\n",
    "\n",
    "train_loader, val_loader = load_dataset(cfg, test_config=False)  "
   ]
  },
  {
   "cell_type": "code",
   "execution_count": null,
   "id": "a215afe1",
   "metadata": {},
   "outputs": [],
   "source": [
    "num_samples = 5\n",
    "sample = next(iter(train_loader)),   # Get a sample from the validation set\n",
    "target_style = sample[0][0]\n",
    "target_style = target_style.to(device, non_blocking=True)\n",
    "target_style.shape\n"
   ]
  },
  {
   "cell_type": "code",
   "execution_count": null,
   "id": "59b1213d",
   "metadata": {},
   "outputs": [],
   "source": []
  },
  {
   "cell_type": "code",
   "execution_count": null,
   "id": "29299314",
   "metadata": {},
   "outputs": [],
   "source": [
    "target_style = np.load(\"/mnt/fasttalk/demo/styles/espresso.npz\", allow_pickle=True)\n",
    "\n",
    "\n",
    "if 'pose_params' in target_style:\n",
    "    expr   = target_style['expression_params'].reshape(-1, 50)\n",
    "    jaw    = target_style[\"jaw_params\"].reshape(-1, 3)\n",
    "    gpose  = target_style[\"pose_params\"].reshape(-1, 3)\n",
    "    gpose  = gpose - gpose.mean(axis=0, keepdims=True)\n",
    "\n",
    "# Apply Savitzky-Golay filter along the time axis for gpose (removes tracker's flickering) (axis=0)\n",
    "gpose = savgol_filter(gpose, window_length=7, polyorder=2, axis=0)\n",
    "eyelids = np.ones((gpose.shape[0], 2))\n",
    "\n",
    "target_style_concat = torch.Tensor(np.concatenate([expr, gpose, jaw, eyelids], axis=-1)).unsqueeze(0).to(device)\n"
   ]
  },
  {
   "cell_type": "code",
   "execution_count": null,
   "id": "c0060407",
   "metadata": {},
   "outputs": [],
   "source": [
    "#target_style_concat = torch.load(\"/mnt/smirk/results/1051_TIE_HAP_XX_params.pt\",map_location=device).unsqueeze(0) # Happy 30:\n",
    "target_style_concat = torch.load(\"/mnt/smirk/results/1083_ITH_SAD_XX_params.pt\",map_location=device).unsqueeze(0) # Sad 30:\n",
    "#target_style_concat = torch.load(\"/mnt/smirk/results/1091_IEO_ANG_HI_params.pt\",map_location=device).unsqueeze(0) # Ang\n",
    "\n",
    "\n",
    "#pose_cols = slice(50, 53) \n",
    "#pose_seq   = target_style_concat[:, :, pose_cols]\n",
    "#pose_seq_centerd  = pose_seq - pose_seq.mean(axis=1, keepdims=True)\n",
    "\n",
    "#target_style_concat[:, :, pose_cols] = pose_seq_centerd\n",
    "\n",
    "target_style_concat = target_style_concat[:,:80,:]\n",
    "target_style_concat.shape\n",
    "\n"
   ]
  },
  {
   "cell_type": "code",
   "execution_count": null,
   "id": "c21758b4",
   "metadata": {},
   "outputs": [],
   "source": [
    "target_style_happy = target_style_concat\n",
    "target_style_happy.shape"
   ]
  },
  {
   "cell_type": "code",
   "execution_count": null,
   "id": "eaf9b6e5",
   "metadata": {},
   "outputs": [],
   "source": [
    "#target_style_happy[:,:,30:].shape"
   ]
  },
  {
   "cell_type": "code",
   "execution_count": null,
   "id": "c5e68e4f",
   "metadata": {},
   "outputs": [],
   "source": [
    "target_style_lips = torch.load(\"/mnt/fasttalk/demo/styles/style_2.npz\",map_location=device)[:,:80,:] # SAD\n",
    "#target_style_lips = torch.load(\"/mnt/fasttalk/demo/styles/style_4.npz\",map_location=device)[:,:80,:] # HAPPY\n",
    "target_style_lips.shape\n",
    "\n"
   ]
  },
  {
   "cell_type": "code",
   "execution_count": null,
   "id": "e2384f9f",
   "metadata": {},
   "outputs": [],
   "source": [
    "#target_style_happy[:,:,30:] = target_style_concat[:,:,30:]"
   ]
  },
  {
   "cell_type": "code",
   "execution_count": null,
   "id": "3358100b",
   "metadata": {},
   "outputs": [],
   "source": [
    "#target_style_concat = target_style_happy"
   ]
  },
  {
   "cell_type": "code",
   "execution_count": null,
   "id": "9acd0e1f",
   "metadata": {},
   "outputs": [],
   "source": [
    "#target_style_concat = torch.cat([target_style_happy, target_style_concat, target_style_happy, target_style_concat], dim=1) # Duplicate for batch size 2"
   ]
  },
  {
   "cell_type": "code",
   "execution_count": null,
   "id": "a4492398",
   "metadata": {},
   "outputs": [],
   "source": [
    "target_style_blend=0.1*target_style_lips[:,:,:50]+0.9*target_style_happy[:,:,:50] # sad\n",
    "#target_style_blend=0.1*target_style_lips[:,:,:50]+0.9*target_style_happy[:,:,:50] # happy"
   ]
  },
  {
   "cell_type": "code",
   "execution_count": null,
   "id": "30b0a401",
   "metadata": {},
   "outputs": [],
   "source": [
    "target_style_concat = target_style_lips\n",
    "target_style_concat[:,:,:50] = target_style_blend "
   ]
  },
  {
   "cell_type": "code",
   "execution_count": null,
   "id": "11bc5235",
   "metadata": {},
   "outputs": [],
   "source": [
    "target_style_concat = torch.cat([target_style_concat, target_style_concat, target_style_concat], dim=1) # Duplicate for batch size 2"
   ]
  },
  {
   "cell_type": "code",
   "execution_count": null,
   "id": "223d6598",
   "metadata": {},
   "outputs": [],
   "source": [
    "pose_cols = slice(0, 56) \n",
    "pose_seq   = target_style_concat[:, :, pose_cols]\n",
    "pose_seq_smoothed  = savgol_filter(pose_seq.squeeze(0).cpu().numpy(), window_length=7, polyorder=2, axis=0)\n",
    "target_style_concat[:, :, pose_cols] = torch.Tensor(pose_seq_smoothed).unsqueeze(0).to(device)"
   ]
  },
  {
   "cell_type": "code",
   "execution_count": null,
   "id": "246dfa9a",
   "metadata": {},
   "outputs": [],
   "source": []
  },
  {
   "cell_type": "code",
   "execution_count": null,
   "id": "51a06a48",
   "metadata": {},
   "outputs": [],
   "source": [
    "#target_style = torch.load(\"/root/Projects/fasttalk/demo/styles/celeb.npz\",map_location=device)\n",
    "#target_style.shape"
   ]
  },
  {
   "cell_type": "code",
   "execution_count": null,
   "id": "ca71f42e",
   "metadata": {},
   "outputs": [],
   "source": [
    "target_style =  target_style_concat # target_style_lips \n",
    "target_style.shape"
   ]
  },
  {
   "cell_type": "code",
   "execution_count": null,
   "id": "dc37aa3d",
   "metadata": {},
   "outputs": [],
   "source": [
    "# Save target style\n",
    "array = target_style.detach().cpu().numpy()\n",
    "torch.save(array,\"/mnt/fasttalk/demo/new_styles/happy.npz\")"
   ]
  },
  {
   "cell_type": "code",
   "execution_count": null,
   "id": "2d845f16",
   "metadata": {},
   "outputs": [],
   "source": [
    "render(target_style.squeeze() , name=\"happy\", audio_dir= None)"
   ]
  },
  {
   "cell_type": "code",
   "execution_count": null,
   "id": "cd43338d",
   "metadata": {},
   "outputs": [],
   "source": [
    "# ── Sample styles ───────────────────────────────────────────\n",
    "#num_samples     = 15         \n",
    "#collected_styles = []        \n",
    "#data_iter = iter(train_loader)   \n",
    "#for idx in range(num_samples):\n",
    "#    sample = next(data_iter)              \n",
    "#    target_style = sample[0][0].to(device, non_blocking=True)\n",
    "#    collected_styles.append(target_style)\n",
    "#    render(target_style.squeeze(), name=f\"style_{idx:02d}\", audio_dir=None)"
   ]
  },
  {
   "cell_type": "code",
   "execution_count": null,
   "id": "db8e6662",
   "metadata": {},
   "outputs": [],
   "source": [
    "#torch.save(target_style, \"demo/styles/style_3.npz\")"
   ]
  },
  {
   "cell_type": "code",
   "execution_count": null,
   "id": "1ddeb231",
   "metadata": {},
   "outputs": [],
   "source": [
    "render_comparison(target_style.squeeze(), target_style.squeeze(), 0)"
   ]
  },
  {
   "cell_type": "code",
   "execution_count": null,
   "id": "67ee9660",
   "metadata": {},
   "outputs": [],
   "source": [
    "#style_mean = target_style[:,:,50:53].mean()\n",
    "#style_std  = target_style[:,:,50:53].std()\n",
    "#print(\"Style mean:\", style_mean, \"Style std:\", style_std)"
   ]
  },
  {
   "cell_type": "code",
   "execution_count": null,
   "id": "22c628a8",
   "metadata": {},
   "outputs": [],
   "source": [
    "#  teacher-forcing test\n",
    "for i, (padded_blendshapes, blendshape_mask, padded_audios, audio_mask) in enumerate(val_loader):\n",
    "    if i >= num_samples:\n",
    "        break\n",
    "    \n",
    "    padded_blendshapes = padded_blendshapes.cuda(device, non_blocking=True)\n",
    "    blendshape_mask    = blendshape_mask.cuda(device, non_blocking=True)\n",
    "    padded_audios      = padded_audios.cuda(device, non_blocking=True)\n",
    "    audio_mask         = audio_mask.cuda(device, non_blocking=True)\n",
    "\n",
    "    with torch.no_grad():\n",
    "        loss, loss_detail, blendshapes_out  = model(padded_blendshapes,blendshape_mask,padded_audios,audio_mask,criterion=nn.MSELoss(), target_style=target_style)\n",
    "    \n",
    "    print(\"loss_blendshapes: \", loss_detail[0].item(), \"- loss_reg:\", loss_detail[1].item())\n",
    "\n",
    "    render_comparison(padded_blendshapes.squeeze(), blendshapes_out.squeeze(), i)"
   ]
  },
  {
   "cell_type": "code",
   "execution_count": null,
   "id": "3e1013f6",
   "metadata": {},
   "outputs": [],
   "source": [
    "#  autoregression-only test\n",
    "for i, (padded_blendshapes, blendshape_mask, padded_audios, audio_mask) in enumerate(val_loader):\n",
    "    if i >= num_samples:\n",
    "        break\n",
    "    \n",
    "    print(\"Sample: \", i)\n",
    "    padded_blendshapes = padded_blendshapes.cuda(device, non_blocking=True)\n",
    "    blendshape_mask    = blendshape_mask.cuda(device, non_blocking=True)\n",
    "    padded_audios      = padded_audios.cuda(device, non_blocking=True)\n",
    "    audio_mask         = audio_mask.cuda(device, non_blocking=True)\n",
    "\n",
    "    with torch.no_grad():\n",
    "        blendshapes_out  = model.predict(padded_audios, target_style=target_style)\n",
    "    \n",
    "    render_comparison(padded_blendshapes.squeeze(), blendshapes_out.squeeze(), i)"
   ]
  },
  {
   "cell_type": "code",
   "execution_count": null,
   "id": "f4b76d07",
   "metadata": {},
   "outputs": [],
   "source": [
    "def match_mean_std(x, target_mean, target_std, dims=(0, 1), eps=1e-6):\n",
    "    mean_current = x.mean(dim=dims, keepdim=True)\n",
    "    std_current = x.std(dim=dims, keepdim=True).clamp(min=eps)\n",
    "\n",
    "    target_mean = target_mean.view(*([1] * len(dims)), -1)\n",
    "    target_std = target_std.view(*([1] * len(dims)), -1)\n",
    "\n",
    "    x_norm = (x - mean_current) / std_current\n",
    "    x_rescaled = x_norm * target_std + target_mean\n",
    "    return x_rescaled"
   ]
  },
  {
   "cell_type": "code",
   "execution_count": null,
   "id": "d5fcbf07",
   "metadata": {},
   "outputs": [],
   "source": [
    "# raw audio test\n",
    "audio_dir = \"demo/input\"\n",
    "for wav_file in glob.glob(os.path.join(audio_dir,\"*.wav\")):\n",
    "    print('Generating facial animation for {}...'.format(wav_file))\n",
    "    test_name       = os.path.basename(wav_file).split(\".\")[0]\n",
    "    speech_array, _ = librosa.load(wav_file, sr=16000)\n",
    "\n",
    "    # Use Wav2Vec audio features\n",
    "    processor = Wav2Vec2FeatureExtractor.from_pretrained(cfg.wav2vec2model_path)\n",
    "    print(cfg.wav2vec2model_path)\n",
    "\n",
    "    audio_feature = np.squeeze(processor(speech_array, sampling_rate=16000).input_values)\n",
    "    audio_feature = np.reshape(audio_feature, (-1, audio_feature.shape[0]))\n",
    "    audio_feature = torch.FloatTensor(audio_feature).to(device='cuda')\n",
    "\n",
    "    with torch.no_grad():\n",
    "        #blendshapes_out  = model.predict(audio_feature, target_style=target_style)\n",
    "        blendshapes_out  = model.predict_no_quantizer(audio_feature, target_style=target_style)\n",
    "\n",
    "        \n",
    "        #x = blendshapes_out[:, :, 50:53]\n",
    "        #print( x.mean(axis=1, keepdims=True))\n",
    "        #x  = x - x.mean(axis=1, keepdims=True)\n",
    "        #blendshapes_out[:, :, 50:53] = x\n",
    "\n",
    "        #blendshapes_out[:, :, 50:53] = match_mean_std(x, style_mean, style_std)\n",
    "       # print(\" MEAN:\",blendshapes_out[:,:,50:53].mean())\n",
    "       # print(\" STD:\",blendshapes_out[:,:,50:53].std())\n",
    "\n",
    "    render(blendshapes_out.squeeze(), name=os.path.splitext(os.path.basename(wav_file))[0], audio_dir=audio_dir)\n"
   ]
  },
  {
   "cell_type": "code",
   "execution_count": null,
   "id": "e706f08c",
   "metadata": {},
   "outputs": [],
   "source": []
  },
  {
   "cell_type": "code",
   "execution_count": null,
   "id": "8914f600",
   "metadata": {},
   "outputs": [],
   "source": []
  },
  {
   "cell_type": "code",
   "execution_count": null,
   "id": "c5e976d2",
   "metadata": {},
   "outputs": [],
   "source": []
  },
  {
   "cell_type": "code",
   "execution_count": null,
   "id": "94f8dd39",
   "metadata": {},
   "outputs": [],
   "source": []
  },
  {
   "cell_type": "code",
   "execution_count": null,
   "id": "f89f4931",
   "metadata": {},
   "outputs": [],
   "source": []
  },
  {
   "cell_type": "code",
   "execution_count": null,
   "id": "bbe49e47",
   "metadata": {},
   "outputs": [],
   "source": [
    "evaluate_samples(model, train_loader, num_samples=5)"
   ]
  },
  {
   "cell_type": "code",
   "execution_count": null,
   "id": "3bea40ba",
   "metadata": {},
   "outputs": [],
   "source": [
    "test_loader = load_dataset(cfg, test_config=True)"
   ]
  },
  {
   "cell_type": "code",
   "execution_count": null,
   "id": "3c334f9d",
   "metadata": {},
   "outputs": [],
   "source": [
    "\n",
    "evaluate_samples(model, test_loader, num_samples=5)"
   ]
  },
  {
   "cell_type": "markdown",
   "id": "ea2fdb62",
   "metadata": {},
   "source": []
  },
  {
   "cell_type": "code",
   "execution_count": null,
   "id": "b78d511b",
   "metadata": {},
   "outputs": [],
   "source": []
  }
 ],
 "metadata": {
  "kernelspec": {
   "display_name": "fasttalk",
   "language": "python",
   "name": "python3"
  },
  "language_info": {
   "codemirror_mode": {
    "name": "ipython",
    "version": 3
   },
   "file_extension": ".py",
   "mimetype": "text/x-python",
   "name": "python",
   "nbconvert_exporter": "python",
   "pygments_lexer": "ipython3",
   "version": "3.11.13"
  }
 },
 "nbformat": 4,
 "nbformat_minor": 5
}
